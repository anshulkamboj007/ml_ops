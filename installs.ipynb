{
 "cells": [
  {
   "cell_type": "code",
   "execution_count": null,
   "metadata": {},
   "outputs": [],
   "source": [
    "!pip install zenml"
   ]
  },
  {
   "cell_type": "code",
   "execution_count": null,
   "metadata": {},
   "outputs": [],
   "source": [
    "!pip install zenml[\"server\"]"
   ]
  },
  {
   "cell_type": "code",
   "execution_count": null,
   "metadata": {},
   "outputs": [],
   "source": [
    "!rm -rf .zen\n",
    "!zenml init"
   ]
  },
  {
   "cell_type": "code",
   "execution_count": 1,
   "metadata": {},
   "outputs": [
    {
     "name": "stdout",
     "output_type": "stream",
     "text": [
      "Requirement already satisfied: mlflow in c:\\users\\anshul\\appdata\\local\\programs\\python\\python38\\lib\\site-packages (2.2.2)\n",
      "Requirement already satisfied: click<9,>=7.0 in c:\\users\\anshul\\appdata\\local\\programs\\python\\python38\\lib\\site-packages (from mlflow) (8.1.3)\n",
      "Requirement already satisfied: cloudpickle<3 in c:\\users\\anshul\\appdata\\local\\programs\\python\\python38\\lib\\site-packages (from mlflow) (2.2.1)\n",
      "Requirement already satisfied: databricks-cli<1,>=0.8.7 in c:\\users\\anshul\\appdata\\local\\programs\\python\\python38\\lib\\site-packages (from mlflow) (0.18.0)\n",
      "Requirement already satisfied: entrypoints<1 in c:\\users\\anshul\\appdata\\local\\programs\\python\\python38\\lib\\site-packages (from mlflow) (0.4)\n",
      "Requirement already satisfied: gitpython<4,>=2.1.0 in c:\\users\\anshul\\appdata\\local\\programs\\python\\python38\\lib\\site-packages (from mlflow) (3.1.42)\n",
      "Requirement already satisfied: pyyaml<7,>=5.1 in c:\\users\\anshul\\appdata\\local\\programs\\python\\python38\\lib\\site-packages (from mlflow) (6.0.1)\n",
      "Requirement already satisfied: protobuf<5,>=3.12.0 in c:\\users\\anshul\\appdata\\local\\programs\\python\\python38\\lib\\site-packages (from mlflow) (4.25.3)\n",
      "Requirement already satisfied: pytz<2023 in c:\\users\\anshul\\appdata\\local\\programs\\python\\python38\\lib\\site-packages (from mlflow) (2022.7.1)\n",
      "Requirement already satisfied: requests<3,>=2.17.3 in c:\\users\\anshul\\appdata\\local\\programs\\python\\python38\\lib\\site-packages (from mlflow) (2.31.0)\n",
      "Requirement already satisfied: packaging<24 in c:\\users\\anshul\\appdata\\roaming\\python\\python38\\site-packages (from mlflow) (23.2)\n",
      "Requirement already satisfied: importlib-metadata!=4.7.0,<7,>=3.7.0 in c:\\users\\anshul\\appdata\\local\\programs\\python\\python38\\lib\\site-packages (from mlflow) (6.11.0)\n",
      "Requirement already satisfied: sqlparse<1,>=0.4.0 in c:\\users\\anshul\\appdata\\local\\programs\\python\\python38\\lib\\site-packages (from mlflow) (0.4.4)\n",
      "Requirement already satisfied: alembic<2 in c:\\users\\anshul\\appdata\\local\\programs\\python\\python38\\lib\\site-packages (from mlflow) (1.8.1)\n",
      "Requirement already satisfied: docker<7,>=4.0.0 in c:\\users\\anshul\\appdata\\local\\programs\\python\\python38\\lib\\site-packages (from mlflow) (6.1.3)\n",
      "Requirement already satisfied: Flask<3 in c:\\users\\anshul\\appdata\\local\\programs\\python\\python38\\lib\\site-packages (from mlflow) (2.3.3)\n",
      "Requirement already satisfied: numpy<2 in c:\\users\\anshul\\appdata\\local\\programs\\python\\python38\\lib\\site-packages (from mlflow) (1.23.5)\n",
      "Requirement already satisfied: scipy<2 in c:\\users\\anshul\\appdata\\local\\programs\\python\\python38\\lib\\site-packages (from mlflow) (1.10.1)\n",
      "Requirement already satisfied: pandas<3 in c:\\users\\anshul\\appdata\\local\\programs\\python\\python38\\lib\\site-packages (from mlflow) (2.0.3)\n",
      "Requirement already satisfied: querystring-parser<2 in c:\\users\\anshul\\appdata\\local\\programs\\python\\python38\\lib\\site-packages (from mlflow) (1.2.4)\n",
      "Requirement already satisfied: sqlalchemy<3,>=1.4.0 in c:\\users\\anshul\\appdata\\local\\programs\\python\\python38\\lib\\site-packages (from mlflow) (1.4.41)\n",
      "Requirement already satisfied: scikit-learn<2 in c:\\users\\anshul\\appdata\\local\\programs\\python\\python38\\lib\\site-packages (from mlflow) (1.3.2)\n",
      "Requirement already satisfied: pyarrow<12,>=4.0.0 in c:\\users\\anshul\\appdata\\local\\programs\\python\\python38\\lib\\site-packages (from mlflow) (11.0.0)\n",
      "Requirement already satisfied: shap<1,>=0.40 in c:\\users\\anshul\\appdata\\local\\programs\\python\\python38\\lib\\site-packages (from mlflow) (0.44.1)\n",
      "Requirement already satisfied: markdown<4,>=3.3 in c:\\users\\anshul\\appdata\\local\\programs\\python\\python38\\lib\\site-packages (from mlflow) (3.5.2)\n",
      "Requirement already satisfied: matplotlib<4 in c:\\users\\anshul\\appdata\\local\\programs\\python\\python38\\lib\\site-packages (from mlflow) (3.7.2)\n",
      "Requirement already satisfied: waitress<3 in c:\\users\\anshul\\appdata\\local\\programs\\python\\python38\\lib\\site-packages (from mlflow) (2.1.2)\n",
      "Requirement already satisfied: Jinja2<4,>=3.0 in c:\\users\\anshul\\appdata\\local\\programs\\python\\python38\\lib\\site-packages (from mlflow) (3.1.3)\n",
      "Requirement already satisfied: Mako in c:\\users\\anshul\\appdata\\local\\programs\\python\\python38\\lib\\site-packages (from alembic<2->mlflow) (1.3.2)\n",
      "Requirement already satisfied: importlib-resources in c:\\users\\anshul\\appdata\\local\\programs\\python\\python38\\lib\\site-packages (from alembic<2->mlflow) (6.1.1)\n",
      "Requirement already satisfied: colorama in c:\\users\\anshul\\appdata\\roaming\\python\\python38\\site-packages (from click<9,>=7.0->mlflow) (0.4.6)\n",
      "Requirement already satisfied: pyjwt>=1.7.0 in c:\\users\\anshul\\appdata\\local\\programs\\python\\python38\\lib\\site-packages (from databricks-cli<1,>=0.8.7->mlflow) (2.7.0)\n",
      "Requirement already satisfied: oauthlib>=3.1.0 in c:\\users\\anshul\\appdata\\local\\programs\\python\\python38\\lib\\site-packages (from databricks-cli<1,>=0.8.7->mlflow) (3.2.2)\n",
      "Requirement already satisfied: tabulate>=0.7.7 in c:\\users\\anshul\\appdata\\local\\programs\\python\\python38\\lib\\site-packages (from databricks-cli<1,>=0.8.7->mlflow) (0.9.0)\n",
      "Requirement already satisfied: six>=1.10.0 in c:\\users\\anshul\\appdata\\roaming\\python\\python38\\site-packages (from databricks-cli<1,>=0.8.7->mlflow) (1.16.0)\n",
      "Requirement already satisfied: urllib3<3,>=1.26.7 in c:\\users\\anshul\\appdata\\local\\programs\\python\\python38\\lib\\site-packages (from databricks-cli<1,>=0.8.7->mlflow) (2.2.1)\n",
      "Requirement already satisfied: websocket-client>=0.32.0 in c:\\users\\anshul\\appdata\\local\\programs\\python\\python38\\lib\\site-packages (from docker<7,>=4.0.0->mlflow) (1.7.0)\n",
      "Requirement already satisfied: pywin32>=304 in c:\\users\\anshul\\appdata\\roaming\\python\\python38\\site-packages (from docker<7,>=4.0.0->mlflow) (306)\n",
      "Requirement already satisfied: Werkzeug>=2.3.7 in c:\\users\\anshul\\appdata\\local\\programs\\python\\python38\\lib\\site-packages (from Flask<3->mlflow) (3.0.1)\n",
      "Requirement already satisfied: itsdangerous>=2.1.2 in c:\\users\\anshul\\appdata\\local\\programs\\python\\python38\\lib\\site-packages (from Flask<3->mlflow) (2.1.2)\n",
      "Requirement already satisfied: blinker>=1.6.2 in c:\\users\\anshul\\appdata\\local\\programs\\python\\python38\\lib\\site-packages (from Flask<3->mlflow) (1.7.0)\n",
      "Requirement already satisfied: gitdb<5,>=4.0.1 in c:\\users\\anshul\\appdata\\local\\programs\\python\\python38\\lib\\site-packages (from gitpython<4,>=2.1.0->mlflow) (4.0.11)\n",
      "Requirement already satisfied: zipp>=0.5 in c:\\users\\anshul\\appdata\\roaming\\python\\python38\\site-packages (from importlib-metadata!=4.7.0,<7,>=3.7.0->mlflow) (3.17.0)\n",
      "Requirement already satisfied: MarkupSafe>=2.0 in c:\\users\\anshul\\appdata\\local\\programs\\python\\python38\\lib\\site-packages (from Jinja2<4,>=3.0->mlflow) (2.1.5)\n",
      "Requirement already satisfied: contourpy>=1.0.1 in c:\\users\\anshul\\appdata\\local\\programs\\python\\python38\\lib\\site-packages (from matplotlib<4->mlflow) (1.1.1)\n",
      "Requirement already satisfied: cycler>=0.10 in c:\\users\\anshul\\appdata\\local\\programs\\python\\python38\\lib\\site-packages (from matplotlib<4->mlflow) (0.12.1)\n",
      "Requirement already satisfied: fonttools>=4.22.0 in c:\\users\\anshul\\appdata\\local\\programs\\python\\python38\\lib\\site-packages (from matplotlib<4->mlflow) (4.49.0)\n",
      "Requirement already satisfied: kiwisolver>=1.0.1 in c:\\users\\anshul\\appdata\\local\\programs\\python\\python38\\lib\\site-packages (from matplotlib<4->mlflow) (1.4.5)\n",
      "Requirement already satisfied: pillow>=6.2.0 in c:\\users\\anshul\\appdata\\local\\programs\\python\\python38\\lib\\site-packages (from matplotlib<4->mlflow) (10.2.0)\n",
      "Requirement already satisfied: pyparsing<3.1,>=2.3.1 in c:\\users\\anshul\\appdata\\local\\programs\\python\\python38\\lib\\site-packages (from matplotlib<4->mlflow) (2.4.7)\n",
      "Requirement already satisfied: python-dateutil>=2.7 in c:\\users\\anshul\\appdata\\roaming\\python\\python38\\site-packages (from matplotlib<4->mlflow) (2.8.2)\n",
      "Requirement already satisfied: tzdata>=2022.1 in c:\\users\\anshul\\appdata\\local\\programs\\python\\python38\\lib\\site-packages (from pandas<3->mlflow) (2024.1)\n",
      "Requirement already satisfied: charset-normalizer<4,>=2 in c:\\users\\anshul\\appdata\\local\\programs\\python\\python38\\lib\\site-packages (from requests<3,>=2.17.3->mlflow) (3.3.2)\n",
      "Requirement already satisfied: idna<4,>=2.5 in c:\\users\\anshul\\appdata\\local\\programs\\python\\python38\\lib\\site-packages (from requests<3,>=2.17.3->mlflow) (3.6)\n",
      "Requirement already satisfied: certifi>=2017.4.17 in c:\\users\\anshul\\appdata\\local\\programs\\python\\python38\\lib\\site-packages (from requests<3,>=2.17.3->mlflow) (2023.11.17)\n",
      "Requirement already satisfied: joblib>=1.1.1 in c:\\users\\anshul\\appdata\\local\\programs\\python\\python38\\lib\\site-packages (from scikit-learn<2->mlflow) (1.3.2)\n",
      "Requirement already satisfied: threadpoolctl>=2.0.0 in c:\\users\\anshul\\appdata\\local\\programs\\python\\python38\\lib\\site-packages (from scikit-learn<2->mlflow) (3.3.0)\n",
      "Requirement already satisfied: tqdm>=4.27.0 in c:\\users\\anshul\\appdata\\local\\programs\\python\\python38\\lib\\site-packages (from shap<1,>=0.40->mlflow) (4.66.2)\n",
      "Requirement already satisfied: slicer==0.0.7 in c:\\users\\anshul\\appdata\\local\\programs\\python\\python38\\lib\\site-packages (from shap<1,>=0.40->mlflow) (0.0.7)\n",
      "Requirement already satisfied: numba in c:\\users\\anshul\\appdata\\local\\programs\\python\\python38\\lib\\site-packages (from shap<1,>=0.40->mlflow) (0.58.1)\n",
      "Requirement already satisfied: greenlet!=0.4.17 in c:\\users\\anshul\\appdata\\local\\programs\\python\\python38\\lib\\site-packages (from sqlalchemy<3,>=1.4.0->mlflow) (3.0.3)\n",
      "Requirement already satisfied: smmap<6,>=3.0.1 in c:\\users\\anshul\\appdata\\local\\programs\\python\\python38\\lib\\site-packages (from gitdb<5,>=4.0.1->gitpython<4,>=2.1.0->mlflow) (5.0.1)\n",
      "Requirement already satisfied: llvmlite<0.42,>=0.41.0dev0 in c:\\users\\anshul\\appdata\\local\\programs\\python\\python38\\lib\\site-packages (from numba->shap<1,>=0.40->mlflow) (0.41.1)\n"
     ]
    }
   ],
   "source": [
    "!pip install mlflow"
   ]
  },
  {
   "cell_type": "code",
   "execution_count": null,
   "metadata": {},
   "outputs": [],
   "source": []
  }
 ],
 "metadata": {
  "kernelspec": {
   "display_name": "Python 3",
   "language": "python",
   "name": "python3"
  },
  "language_info": {
   "codemirror_mode": {
    "name": "ipython",
    "version": 3
   },
   "file_extension": ".py",
   "mimetype": "text/x-python",
   "name": "python",
   "nbconvert_exporter": "python",
   "pygments_lexer": "ipython3",
   "version": "3.8.0"
  }
 },
 "nbformat": 4,
 "nbformat_minor": 2
}
